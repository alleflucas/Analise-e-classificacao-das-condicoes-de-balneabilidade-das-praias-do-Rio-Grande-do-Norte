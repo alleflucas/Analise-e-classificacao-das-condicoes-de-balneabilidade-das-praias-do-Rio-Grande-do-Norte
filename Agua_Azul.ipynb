{
  "nbformat": 4,
  "nbformat_minor": 0,
  "metadata": {
    "colab": {
      "name": "Agua_Azul.ipynb",
      "provenance": [],
      "collapsed_sections": [],
      "include_colab_link": true
    },
    "kernelspec": {
      "name": "python3",
      "display_name": "Python 3"
    }
  },
  "cells": [
    {
      "cell_type": "markdown",
      "metadata": {
        "id": "view-in-github",
        "colab_type": "text"
      },
      "source": [
        "<a href=\"https://colab.research.google.com/github/alleflucas/Analise-e-classificacao-das-condicoes-de-balneabilidade-das-praias-do-Rio-Grande-do-Norte/blob/master/Agua_Azul.ipynb\" target=\"_parent\"><img src=\"https://colab.research.google.com/assets/colab-badge.svg\" alt=\"Open In Colab\"/></a>"
      ]
    },
    {
      "cell_type": "markdown",
      "metadata": {
        "id": "F9Z-us9uMwtx"
      },
      "source": [
        "![IMD.PNG](data:image/png;base64,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)\n",
        "\n",
        "# **Python para Visualização e Análise de Dados**\n",
        "\n",
        "> \n",
        "> Professor: Carlos Artur Guimarães\n",
        "\n",
        "\n",
        "\n",
        "**Integrantes :**\n",
        "\n",
        "**Alan Ribeiro**  |\n",
        "**Allef Freitas** | \n",
        "**Joseane Palhares** \n",
        "\n",
        "\n",
        "\n",
        "\n"
      ]
    },
    {
      "cell_type": "markdown",
      "metadata": {
        "id": "20lhMCAdbhFF"
      },
      "source": [
        "# 1) Problemática\n",
        "\n",
        "O índice de contaminação das águas das praias da Grande Natal no ano de 2020."
      ]
    },
    {
      "cell_type": "markdown",
      "metadata": {
        "id": "SHptpokLbkYa"
      },
      "source": [
        "# 2) Fonte dos dados \n",
        "\n",
        "1.   http://programaaguaazul.ct.ufrn.br/relatorios/balneabilidade/\n",
        "\n",
        "2.   http://www.idema.rn.gov.br/\n",
        "\n"
      ]
    },
    {
      "cell_type": "markdown",
      "metadata": {
        "id": "LtL27O0lbmup"
      },
      "source": [
        "# 3) Importação dos dados"
      ]
    },
    {
      "cell_type": "code",
      "metadata": {
        "id": "q_Qnmr9QcMdw"
      },
      "source": [
        "#Importando as Bibliotecas utilizadas\n",
        "import pandas as pd"
      ],
      "execution_count": null,
      "outputs": []
    },
    {
      "cell_type": "code",
      "metadata": {
        "id": "57gi_UNafbTE",
        "outputId": "ab0bbfa6-1ceb-4a92-882f-b3cc1b51e7f3",
        "colab": {
          "base_uri": "https://localhost:8080/",
          "height": 1000
        }
      },
      "source": [
        "#Função para ler a tabela com os dados sobre a balneabilidade das praias do Rio Grande do Norte em formato csv alocado no repositorio do Github.\n",
        "ler = pd.read_csv('https://raw.githubusercontent.com/alleflucas/Analise-e-classificacao-das-condicoes-de-balneabilidade-das-praias-do-Rio-Grande-do-Norte/master/Balneabilidade%202020.csv')\n",
        "#Exibir a tabela\n",
        "ler"
      ],
      "execution_count": null,
      "outputs": [
        {
          "output_type": "execute_result",
          "data": {
            "text/html": [
              "<div>\n",
              "<style scoped>\n",
              "    .dataframe tbody tr th:only-of-type {\n",
              "        vertical-align: middle;\n",
              "    }\n",
              "\n",
              "    .dataframe tbody tr th {\n",
              "        vertical-align: top;\n",
              "    }\n",
              "\n",
              "    .dataframe thead th {\n",
              "        text-align: right;\n",
              "    }\n",
              "</style>\n",
              "<table border=\"1\" class=\"dataframe\">\n",
              "  <thead>\n",
              "    <tr style=\"text-align: right;\">\n",
              "      <th></th>\n",
              "      <th>Estacões</th>\n",
              "      <th>Municipio</th>\n",
              "      <th>Local da coleta</th>\n",
              "      <th>26/12/2019</th>\n",
              "      <th>23/01/2020</th>\n",
              "      <th>30/01/2020</th>\n",
              "      <th>06/02/2020</th>\n",
              "      <th>13/02/2020</th>\n",
              "      <th>20/02/2020</th>\n",
              "      <th>27/02/2020</th>\n",
              "      <th>12/03/2020</th>\n",
              "      <th>19/03/2020</th>\n",
              "    </tr>\n",
              "  </thead>\n",
              "  <tbody>\n",
              "    <tr>\n",
              "      <th>0</th>\n",
              "      <td>NF-01</td>\n",
              "      <td>Nisia Floresta</td>\n",
              "      <td>Tabatinga</td>\n",
              "      <td>2</td>\n",
              "      <td>2</td>\n",
              "      <td>70</td>\n",
              "      <td>23</td>\n",
              "      <td>11</td>\n",
              "      <td>23</td>\n",
              "      <td>5</td>\n",
              "      <td>33</td>\n",
              "      <td>2</td>\n",
              "    </tr>\n",
              "    <tr>\n",
              "      <th>1</th>\n",
              "      <td>NF-02</td>\n",
              "      <td>Nisia Floresta</td>\n",
              "      <td>Buzios (Rio Doce)</td>\n",
              "      <td>5</td>\n",
              "      <td>40</td>\n",
              "      <td>40</td>\n",
              "      <td>13</td>\n",
              "      <td>11</td>\n",
              "      <td>27</td>\n",
              "      <td>2</td>\n",
              "      <td>58</td>\n",
              "      <td>13</td>\n",
              "    </tr>\n",
              "    <tr>\n",
              "      <th>2</th>\n",
              "      <td>NF-03</td>\n",
              "      <td>Nisia Floresta</td>\n",
              "      <td>Buzios (Barracas)</td>\n",
              "      <td>8</td>\n",
              "      <td>23</td>\n",
              "      <td>8</td>\n",
              "      <td>3</td>\n",
              "      <td>2</td>\n",
              "      <td>49</td>\n",
              "      <td>2</td>\n",
              "      <td>210</td>\n",
              "      <td>23</td>\n",
              "    </tr>\n",
              "    <tr>\n",
              "      <th>3</th>\n",
              "      <td>NF-04</td>\n",
              "      <td>Nisia Floresta</td>\n",
              "      <td>Pirangi do Sul (Igreja)</td>\n",
              "      <td>5</td>\n",
              "      <td>48</td>\n",
              "      <td>150</td>\n",
              "      <td>3500</td>\n",
              "      <td>140</td>\n",
              "      <td>920</td>\n",
              "      <td>79</td>\n",
              "      <td>170</td>\n",
              "      <td>350</td>\n",
              "    </tr>\n",
              "    <tr>\n",
              "      <th>4</th>\n",
              "      <td>NF-05</td>\n",
              "      <td>Nisia Floresta</td>\n",
              "      <td>Foz do Rio Pirangi</td>\n",
              "      <td>540</td>\n",
              "      <td>920</td>\n",
              "      <td>3500</td>\n",
              "      <td>5400</td>\n",
              "      <td>1600</td>\n",
              "      <td>3500</td>\n",
              "      <td>540</td>\n",
              "      <td>920</td>\n",
              "      <td>49</td>\n",
              "    </tr>\n",
              "    <tr>\n",
              "      <th>5</th>\n",
              "      <td>NF-06</td>\n",
              "      <td>Nisia Floresta</td>\n",
              "      <td>Lagoa de Arituba</td>\n",
              "      <td>49</td>\n",
              "      <td>13</td>\n",
              "      <td>540</td>\n",
              "      <td>23</td>\n",
              "      <td>23</td>\n",
              "      <td>92</td>\n",
              "      <td>23</td>\n",
              "      <td>920</td>\n",
              "      <td>79</td>\n",
              "    </tr>\n",
              "    <tr>\n",
              "      <th>6</th>\n",
              "      <td>PA-01</td>\n",
              "      <td>Parnamirim</td>\n",
              "      <td>Rio Pium (Ponte Nova)</td>\n",
              "      <td>920</td>\n",
              "      <td>240</td>\n",
              "      <td>350</td>\n",
              "      <td>240</td>\n",
              "      <td>350</td>\n",
              "      <td>2400</td>\n",
              "      <td>5400</td>\n",
              "      <td>1600</td>\n",
              "      <td>1600</td>\n",
              "    </tr>\n",
              "    <tr>\n",
              "      <th>7</th>\n",
              "      <td>PA-02</td>\n",
              "      <td>Parnamirim</td>\n",
              "      <td>Pirangi do Norte (APURN)</td>\n",
              "      <td>63</td>\n",
              "      <td>1600</td>\n",
              "      <td>49</td>\n",
              "      <td>540</td>\n",
              "      <td>79</td>\n",
              "      <td>130</td>\n",
              "      <td>350</td>\n",
              "      <td>23</td>\n",
              "      <td>540</td>\n",
              "    </tr>\n",
              "    <tr>\n",
              "      <th>8</th>\n",
              "      <td>PA-03</td>\n",
              "      <td>Parnamirim</td>\n",
              "      <td>Pirangi  do Norte (Coqueiros)</td>\n",
              "      <td>84</td>\n",
              "      <td>23</td>\n",
              "      <td>33</td>\n",
              "      <td>1600</td>\n",
              "      <td>33</td>\n",
              "      <td>110</td>\n",
              "      <td>350</td>\n",
              "      <td>70</td>\n",
              "      <td>280</td>\n",
              "    </tr>\n",
              "    <tr>\n",
              "      <th>9</th>\n",
              "      <td>PA-04</td>\n",
              "      <td>Parnamirim</td>\n",
              "      <td>Cotovelo (Barramares)</td>\n",
              "      <td>2</td>\n",
              "      <td>33</td>\n",
              "      <td>8</td>\n",
              "      <td>2</td>\n",
              "      <td>33</td>\n",
              "      <td>46</td>\n",
              "      <td>23</td>\n",
              "      <td>31</td>\n",
              "      <td>49</td>\n",
              "    </tr>\n",
              "    <tr>\n",
              "      <th>10</th>\n",
              "      <td>PA-05</td>\n",
              "      <td>Parnamirim</td>\n",
              "      <td>Rio Pium (Balneario Pium)</td>\n",
              "      <td>1600</td>\n",
              "      <td>130</td>\n",
              "      <td>240</td>\n",
              "      <td>130</td>\n",
              "      <td>350</td>\n",
              "      <td>1100</td>\n",
              "      <td>1600</td>\n",
              "      <td>1600</td>\n",
              "      <td>920</td>\n",
              "    </tr>\n",
              "    <tr>\n",
              "      <th>11</th>\n",
              "      <td>NA-01</td>\n",
              "      <td>Natal</td>\n",
              "      <td>Pta. Negra (Morro do Careca)</td>\n",
              "      <td>23</td>\n",
              "      <td>70</td>\n",
              "      <td>7</td>\n",
              "      <td>11</td>\n",
              "      <td>2400</td>\n",
              "      <td>46</td>\n",
              "      <td>70</td>\n",
              "      <td>170</td>\n",
              "      <td>2</td>\n",
              "    </tr>\n",
              "    <tr>\n",
              "      <th>12</th>\n",
              "      <td>NA-02</td>\n",
              "      <td>Natal</td>\n",
              "      <td>Pta. Negra (Acesso principal)</td>\n",
              "      <td>49</td>\n",
              "      <td>33</td>\n",
              "      <td>49</td>\n",
              "      <td>2</td>\n",
              "      <td>240</td>\n",
              "      <td>220</td>\n",
              "      <td>5</td>\n",
              "      <td>3500</td>\n",
              "      <td>350</td>\n",
              "    </tr>\n",
              "    <tr>\n",
              "      <th>13</th>\n",
              "      <td>NA-03</td>\n",
              "      <td>Natal</td>\n",
              "      <td>Pta. Negra (Free Willy)</td>\n",
              "      <td>11</td>\n",
              "      <td>33</td>\n",
              "      <td>2</td>\n",
              "      <td>23</td>\n",
              "      <td>350</td>\n",
              "      <td>1600</td>\n",
              "      <td>2</td>\n",
              "      <td>3500</td>\n",
              "      <td>23</td>\n",
              "    </tr>\n",
              "    <tr>\n",
              "      <th>14</th>\n",
              "      <td>NA-04</td>\n",
              "      <td>Natal</td>\n",
              "      <td>Pta. Negra (Final do Calcadao)</td>\n",
              "      <td>2</td>\n",
              "      <td>2</td>\n",
              "      <td>84</td>\n",
              "      <td>2</td>\n",
              "      <td>3500</td>\n",
              "      <td>9200</td>\n",
              "      <td>2</td>\n",
              "      <td>110</td>\n",
              "      <td>46</td>\n",
              "    </tr>\n",
              "    <tr>\n",
              "      <th>15</th>\n",
              "      <td>NA-05</td>\n",
              "      <td>Natal</td>\n",
              "      <td>Via Costeira (Cacimba do Boi)</td>\n",
              "      <td>8</td>\n",
              "      <td>2</td>\n",
              "      <td>6</td>\n",
              "      <td>430</td>\n",
              "      <td>1600</td>\n",
              "      <td>2400</td>\n",
              "      <td>130</td>\n",
              "      <td>3500</td>\n",
              "      <td>2</td>\n",
              "    </tr>\n",
              "    <tr>\n",
              "      <th>16</th>\n",
              "      <td>NA-06</td>\n",
              "      <td>Natal</td>\n",
              "      <td>Via Costeira (Barreira D’agua)</td>\n",
              "      <td>2</td>\n",
              "      <td>23</td>\n",
              "      <td>430</td>\n",
              "      <td>2</td>\n",
              "      <td>110</td>\n",
              "      <td>350</td>\n",
              "      <td>23</td>\n",
              "      <td>49</td>\n",
              "      <td>2</td>\n",
              "    </tr>\n",
              "    <tr>\n",
              "      <th>17</th>\n",
              "      <td>NA-07</td>\n",
              "      <td>Natal</td>\n",
              "      <td>Mae Luiza</td>\n",
              "      <td>13</td>\n",
              "      <td>2</td>\n",
              "      <td>2</td>\n",
              "      <td>5</td>\n",
              "      <td>79</td>\n",
              "      <td>350</td>\n",
              "      <td>33</td>\n",
              "      <td>350</td>\n",
              "      <td>23</td>\n",
              "    </tr>\n",
              "    <tr>\n",
              "      <th>18</th>\n",
              "      <td>NA-08</td>\n",
              "      <td>Natal</td>\n",
              "      <td>Miami (Relógio Solar)</td>\n",
              "      <td>2</td>\n",
              "      <td>5</td>\n",
              "      <td>5</td>\n",
              "      <td>49</td>\n",
              "      <td>350</td>\n",
              "      <td>73</td>\n",
              "      <td>23</td>\n",
              "      <td>2400</td>\n",
              "      <td>540</td>\n",
              "    </tr>\n",
              "    <tr>\n",
              "      <th>19</th>\n",
              "      <td>NA-09</td>\n",
              "      <td>Natal</td>\n",
              "      <td>Areia Preta (Praca da Jangada)</td>\n",
              "      <td>13</td>\n",
              "      <td>2</td>\n",
              "      <td>2</td>\n",
              "      <td>13</td>\n",
              "      <td>3500</td>\n",
              "      <td>2400</td>\n",
              "      <td>5</td>\n",
              "      <td>35000</td>\n",
              "      <td>540</td>\n",
              "    </tr>\n",
              "    <tr>\n",
              "      <th>20</th>\n",
              "      <td>NA-10</td>\n",
              "      <td>Natal</td>\n",
              "      <td>Artistas/ (Centro de Artesanato)</td>\n",
              "      <td>240</td>\n",
              "      <td>23</td>\n",
              "      <td>3500</td>\n",
              "      <td>7</td>\n",
              "      <td>8</td>\n",
              "      <td>8</td>\n",
              "      <td>21</td>\n",
              "      <td>63</td>\n",
              "      <td>130</td>\n",
              "    </tr>\n",
              "    <tr>\n",
              "      <th>21</th>\n",
              "      <td>NA-11</td>\n",
              "      <td>Natal</td>\n",
              "      <td>Meio (Iemanja)</td>\n",
              "      <td>33</td>\n",
              "      <td>2</td>\n",
              "      <td>2</td>\n",
              "      <td>2</td>\n",
              "      <td>3500</td>\n",
              "      <td>2200</td>\n",
              "      <td>170</td>\n",
              "      <td>170</td>\n",
              "      <td>240</td>\n",
              "    </tr>\n",
              "    <tr>\n",
              "      <th>22</th>\n",
              "      <td>NA-12</td>\n",
              "      <td>Natal</td>\n",
              "      <td>Forte</td>\n",
              "      <td>2</td>\n",
              "      <td>5</td>\n",
              "      <td>2</td>\n",
              "      <td>41</td>\n",
              "      <td>1600</td>\n",
              "      <td>1300</td>\n",
              "      <td>920</td>\n",
              "      <td>16000</td>\n",
              "      <td>11</td>\n",
              "    </tr>\n",
              "    <tr>\n",
              "      <th>23</th>\n",
              "      <td>NA-13</td>\n",
              "      <td>Natal</td>\n",
              "      <td>Redinha (Rio Potengi)</td>\n",
              "      <td>240</td>\n",
              "      <td>350</td>\n",
              "      <td>540</td>\n",
              "      <td>3500</td>\n",
              "      <td>1400</td>\n",
              "      <td>2400</td>\n",
              "      <td>130</td>\n",
              "      <td>2100</td>\n",
              "      <td>540</td>\n",
              "    </tr>\n",
              "    <tr>\n",
              "      <th>24</th>\n",
              "      <td>NA-14</td>\n",
              "      <td>Natal</td>\n",
              "      <td>Redinha (Igreja)</td>\n",
              "      <td>17</td>\n",
              "      <td>23</td>\n",
              "      <td>79</td>\n",
              "      <td>21</td>\n",
              "      <td>79</td>\n",
              "      <td>350</td>\n",
              "      <td>49</td>\n",
              "      <td>79</td>\n",
              "      <td>11</td>\n",
              "    </tr>\n",
              "    <tr>\n",
              "      <th>25</th>\n",
              "      <td>NA-15</td>\n",
              "      <td>Natal</td>\n",
              "      <td>Redinha (Barracas)</td>\n",
              "      <td>8</td>\n",
              "      <td>13</td>\n",
              "      <td>5</td>\n",
              "      <td>5</td>\n",
              "      <td>1600</td>\n",
              "      <td>220</td>\n",
              "      <td>33</td>\n",
              "      <td>79</td>\n",
              "      <td>2</td>\n",
              "    </tr>\n",
              "    <tr>\n",
              "      <th>26</th>\n",
              "      <td>EX-01</td>\n",
              "      <td>Extremoz</td>\n",
              "      <td>Redinha Nova (Espigao)</td>\n",
              "      <td>2</td>\n",
              "      <td>2</td>\n",
              "      <td>17</td>\n",
              "      <td>2</td>\n",
              "      <td>49</td>\n",
              "      <td>49</td>\n",
              "      <td>8</td>\n",
              "      <td>23</td>\n",
              "      <td>170</td>\n",
              "    </tr>\n",
              "    <tr>\n",
              "      <th>27</th>\n",
              "      <td>EX-02</td>\n",
              "      <td>Extremoz</td>\n",
              "      <td>Redinha Nova (Tombolo)</td>\n",
              "      <td>2</td>\n",
              "      <td>2</td>\n",
              "      <td>2</td>\n",
              "      <td>2</td>\n",
              "      <td>79</td>\n",
              "      <td>350</td>\n",
              "      <td>11</td>\n",
              "      <td>170</td>\n",
              "      <td>5</td>\n",
              "    </tr>\n",
              "    <tr>\n",
              "      <th>28</th>\n",
              "      <td>EX-03</td>\n",
              "      <td>Extremoz</td>\n",
              "      <td>Genipabu (Barracas)</td>\n",
              "      <td>13</td>\n",
              "      <td>8</td>\n",
              "      <td>2</td>\n",
              "      <td>33</td>\n",
              "      <td>23</td>\n",
              "      <td>13</td>\n",
              "      <td>5</td>\n",
              "      <td>23</td>\n",
              "      <td>49</td>\n",
              "    </tr>\n",
              "    <tr>\n",
              "      <th>29</th>\n",
              "      <td>EX-04</td>\n",
              "      <td>Extremoz</td>\n",
              "      <td>Barra do Rio (Cata-vento)</td>\n",
              "      <td>5</td>\n",
              "      <td>170</td>\n",
              "      <td>49</td>\n",
              "      <td>79</td>\n",
              "      <td>23</td>\n",
              "      <td>23</td>\n",
              "      <td>8</td>\n",
              "      <td>33</td>\n",
              "      <td>350</td>\n",
              "    </tr>\n",
              "    <tr>\n",
              "      <th>30</th>\n",
              "      <td>EX-05</td>\n",
              "      <td>Extremoz</td>\n",
              "      <td>Gracandu (Barracas)</td>\n",
              "      <td>2</td>\n",
              "      <td>33</td>\n",
              "      <td>7</td>\n",
              "      <td>23</td>\n",
              "      <td>13</td>\n",
              "      <td>49</td>\n",
              "      <td>2</td>\n",
              "      <td>70</td>\n",
              "      <td>920</td>\n",
              "    </tr>\n",
              "    <tr>\n",
              "      <th>31</th>\n",
              "      <td>EX-06</td>\n",
              "      <td>Extremoz</td>\n",
              "      <td>Pitangui</td>\n",
              "      <td>2</td>\n",
              "      <td>5</td>\n",
              "      <td>5</td>\n",
              "      <td>13</td>\n",
              "      <td>240</td>\n",
              "      <td>33</td>\n",
              "      <td>33</td>\n",
              "      <td>540</td>\n",
              "      <td>12</td>\n",
              "    </tr>\n",
              "    <tr>\n",
              "      <th>32</th>\n",
              "      <td>EX-07</td>\n",
              "      <td>Extremoz</td>\n",
              "      <td>Lagoa de Pitangui</td>\n",
              "      <td>70</td>\n",
              "      <td>70</td>\n",
              "      <td>7</td>\n",
              "      <td>49</td>\n",
              "      <td>240</td>\n",
              "      <td>49</td>\n",
              "      <td>110</td>\n",
              "      <td>3500</td>\n",
              "      <td>23</td>\n",
              "    </tr>\n",
              "  </tbody>\n",
              "</table>\n",
              "</div>"
            ],
            "text/plain": [
              "   Estacões       Municipio  ... 12/03/2020  19/03/2020\n",
              "0     NF-01  Nisia Floresta  ...         33           2\n",
              "1     NF-02  Nisia Floresta  ...         58          13\n",
              "2     NF-03  Nisia Floresta  ...        210          23\n",
              "3     NF-04  Nisia Floresta  ...        170         350\n",
              "4     NF-05  Nisia Floresta  ...        920          49\n",
              "5     NF-06  Nisia Floresta  ...        920          79\n",
              "6     PA-01      Parnamirim  ...       1600        1600\n",
              "7     PA-02      Parnamirim  ...         23         540\n",
              "8     PA-03      Parnamirim  ...         70         280\n",
              "9     PA-04      Parnamirim  ...         31          49\n",
              "10    PA-05      Parnamirim  ...       1600         920\n",
              "11    NA-01           Natal  ...        170           2\n",
              "12    NA-02           Natal  ...       3500         350\n",
              "13    NA-03           Natal  ...       3500          23\n",
              "14    NA-04           Natal  ...        110          46\n",
              "15    NA-05           Natal  ...       3500           2\n",
              "16    NA-06           Natal  ...         49           2\n",
              "17    NA-07           Natal  ...        350          23\n",
              "18    NA-08           Natal  ...       2400         540\n",
              "19    NA-09           Natal  ...      35000         540\n",
              "20    NA-10           Natal  ...         63         130\n",
              "21    NA-11           Natal  ...        170         240\n",
              "22    NA-12           Natal  ...      16000          11\n",
              "23    NA-13           Natal  ...       2100         540\n",
              "24    NA-14           Natal  ...         79          11\n",
              "25    NA-15           Natal  ...         79           2\n",
              "26    EX-01        Extremoz  ...         23         170\n",
              "27    EX-02        Extremoz  ...        170           5\n",
              "28    EX-03        Extremoz  ...         23          49\n",
              "29    EX-04        Extremoz  ...         33         350\n",
              "30    EX-05        Extremoz  ...         70         920\n",
              "31    EX-06        Extremoz  ...        540          12\n",
              "32    EX-07        Extremoz  ...       3500          23\n",
              "\n",
              "[33 rows x 12 columns]"
            ]
          },
          "metadata": {
            "tags": []
          },
          "execution_count": 19
        }
      ]
    },
    {
      "cell_type": "markdown",
      "metadata": {
        "id": "fJyWpOgxbsKk"
      },
      "source": [
        "# 4) Limpeza dos dados"
      ]
    },
    {
      "cell_type": "code",
      "metadata": {
        "id": "umwgW1JVcS5i",
        "outputId": "9caa8e15-eaec-4661-8c14-e76f9c1d073b",
        "colab": {
          "base_uri": "https://localhost:8080/",
          "height": 225
        }
      },
      "source": [
        "pip install missingno #instalação pandas missingno"
      ],
      "execution_count": null,
      "outputs": [
        {
          "output_type": "stream",
          "text": [
            "Requirement already satisfied: missingno in /usr/local/lib/python3.6/dist-packages (0.4.2)\n",
            "Requirement already satisfied: seaborn in /usr/local/lib/python3.6/dist-packages (from missingno) (0.11.0)\n",
            "Requirement already satisfied: matplotlib in /usr/local/lib/python3.6/dist-packages (from missingno) (3.2.2)\n",
            "Requirement already satisfied: numpy in /usr/local/lib/python3.6/dist-packages (from missingno) (1.18.5)\n",
            "Requirement already satisfied: scipy in /usr/local/lib/python3.6/dist-packages (from missingno) (1.4.1)\n",
            "Requirement already satisfied: pandas>=0.23 in /usr/local/lib/python3.6/dist-packages (from seaborn->missingno) (1.1.2)\n",
            "Requirement already satisfied: cycler>=0.10 in /usr/local/lib/python3.6/dist-packages (from matplotlib->missingno) (0.10.0)\n",
            "Requirement already satisfied: kiwisolver>=1.0.1 in /usr/local/lib/python3.6/dist-packages (from matplotlib->missingno) (1.2.0)\n",
            "Requirement already satisfied: pyparsing!=2.0.4,!=2.1.2,!=2.1.6,>=2.0.1 in /usr/local/lib/python3.6/dist-packages (from matplotlib->missingno) (2.4.7)\n",
            "Requirement already satisfied: python-dateutil>=2.1 in /usr/local/lib/python3.6/dist-packages (from matplotlib->missingno) (2.8.1)\n",
            "Requirement already satisfied: pytz>=2017.2 in /usr/local/lib/python3.6/dist-packages (from pandas>=0.23->seaborn->missingno) (2018.9)\n",
            "Requirement already satisfied: six in /usr/local/lib/python3.6/dist-packages (from cycler>=0.10->matplotlib->missingno) (1.15.0)\n"
          ],
          "name": "stdout"
        }
      ]
    },
    {
      "cell_type": "code",
      "metadata": {
        "id": "jUJ84dcVhXAm"
      },
      "source": [
        "#Importando as Bibliotecas utilizadas\n",
        "import pandas as pd\n",
        "import missingno as msno"
      ],
      "execution_count": null,
      "outputs": []
    },
    {
      "cell_type": "code",
      "metadata": {
        "id": "oW7IVpq7hpAE",
        "outputId": "0c01c33c-3d56-4e70-d07f-23bdb2d22256",
        "colab": {
          "base_uri": "https://localhost:8080/",
          "height": 726
        }
      },
      "source": [
        "ler = pd.read_csv('https://raw.githubusercontent.com/alleflucas/Analise-e-classificacao-das-condicoes-de-balneabilidade-das-praias-do-Rio-Grande-do-Norte/master/Balneabilidade%202020.csv')\n",
        "msno.bar (ler) #leitura dos dados usando pandas missingno na função bar"
      ],
      "execution_count": null,
      "outputs": [
        {
          "output_type": "execute_result",
          "data": {
            "text/plain": [
              "<matplotlib.axes._subplots.AxesSubplot at 0x7fdbc8d679b0>"
            ]
          },
          "metadata": {
            "tags": []
          },
          "execution_count": 22
        },
        {
          "output_type": "display_data",
          "data": {
            "image/png": "[encoded data removed]",
            "text/plain": [
              "<Figure size 1728x720 with 3 Axes>"
            ]
          },
          "metadata": {
            "tags": [],
            "needs_background": "light"
          }
        }
      ]
    },
    {
      "cell_type": "markdown",
      "metadata": {
        "id": "K_9fOrBBbuIV"
      },
      "source": [
        "# 5) Vizualização dos dados\n"
      ]
    },
    {
      "cell_type": "code",
      "metadata": {
        "id": "IiPXBWeYcTmy",
        "outputId": "a961ddb6-60ad-4f00-d914-b099c68402ff",
        "colab": {
          "base_uri": "https://localhost:8080/",
          "height": 264
        }
      },
      "source": [
        "import matplotlib.pyplot as plt\n",
        "\n",
        "labels = 'Nizia Floresta', 'Natal', 'Parnamirim', 'Extremoz'\n",
        "sizes = [21, 45, 28, 6] #modificar os valores depois\n",
        "explode = (0, 0.1, 0, 0)\n",
        "\n",
        "fig1, ax1 = plt.subplots()\n",
        "ax1.pie(sizes, explode=explode, labels=labels, autopct='%1.1f%%', shadow=True, startangle=90)\n",
        "\n",
        "ax1.axis('equal')\n",
        "plt.title('Indice de contaminação média por cidade')\n",
        "plt.show()"
      ],
      "execution_count": null,
      "outputs": [
        {
          "output_type": "display_data",
          "data": {
            "image/png": "[encoded data removed]",
            "text/plain": [
              "<Figure size 432x288 with 1 Axes>"
            ]
          },
          "metadata": {
            "tags": []
          }
        }
      ]
    },
    {
      "cell_type": "code",
      "metadata": {
        "id": "gPeH4fuGvW19",
        "outputId": "8366883c-3ca6-4493-90a4-4820589362f9",
        "colab": {
          "base_uri": "https://localhost:8080/",
          "height": 513
        }
      },
      "source": [
        "# Alterando o tamanho do Gráfico\n",
        "plt.figure(figsize=(20, 8))\n",
        "\n",
        "dias = ['26/12/2019', '23/01/2020', '30/01/2020', '06/02/2020', '13/02/2020', '20/02/2020',\t'27/02/2020',\t'12/03/2020',\t'19/03/2020']\n",
        "media_dia_nisia_floresta  = [102,\t174,\t718,\t1494,\t298,\t769,\t109,\t385, 86]\n",
        "\n",
        "# Atribuindo um título ao Gráfico\n",
        "plt.title('Média do dia da coleta por Nísia Floresta')\n",
        "plt.xlabel('Dia da Coleta')\n",
        "plt.ylabel('Valor de coliformes fecais')\n",
        "\n",
        "plt.bar(dias,media_dia_nisia_floresta)\n",
        "# Exibindo o gráfico\n",
        "plt.show()"
      ],
      "execution_count": null,
      "outputs": [
        {
          "output_type": "display_data",
          "data": {
            "image/png": "[encoded data removed]",
            "text/plain": [
              "<Figure size 1440x576 with 1 Axes>"
            ]
          },
          "metadata": {
            "tags": [],
            "needs_background": "light"
          }
        }
      ]
    },
    {
      "cell_type": "code",
      "metadata": {
        "id": "YAe7--R-0RUc",
        "outputId": "d9806b6d-6768-433f-d34c-0281afc61a9f",
        "colab": {
          "base_uri": "https://localhost:8080/",
          "height": 513
        }
      },
      "source": [
        "#Definindo o tamanho do gráfico\n",
        "plt.figure(figsize=(20, 8))\n",
        "\n",
        "dias = ['26/12/2019', '23/01/2020', '30/01/2020', '06/02/2020', '13/02/2020', '20/02/2020',\t'27/02/2020',\t'12/03/2020',\t'19/03/2020']\n",
        "media_dia_parnamirim  = [534,\t405,\t136,\t502,\t169,\t757,\t1545,\t665,\t678]\n",
        "\n",
        "# Atribuindo um título ao Gráfico\n",
        "plt.title('Média do dia da coleta para Parnamirim')\n",
        "plt.xlabel('Dia da Coleta')\n",
        "plt.ylabel('Valor de coliformes fecais')\n",
        "\n",
        "plt.bar(dias,media_dia_parnamirim)\n",
        "# Exibindo o gráfico\n",
        "plt.show()"
      ],
      "execution_count": null,
      "outputs": [
        {
          "output_type": "display_data",
          "data": {
            "image/png": "[encoded data removed]",
            "text/plain": [
              "<Figure size 1440x576 with 1 Axes>"
            ]
          },
          "metadata": {
            "tags": [],
            "needs_background": "light"
          }
        }
      ]
    },
    {
      "cell_type": "code",
      "metadata": {
        "id": "oeeWuJyp0jsm",
        "outputId": "e3476eb1-cad0-44fa-e4de-3593d06cb4b2",
        "colab": {
          "base_uri": "https://localhost:8080/",
          "height": 513
        }
      },
      "source": [
        "#Definindo o tamanho do gráfico\n",
        "plt.figure(figsize=(20, 8))\n",
        "\n",
        "dias = ['26/12/2019', '23/01/2020', '30/01/2020', '06/02/2020', '13/02/2020', '20/02/2020',\t'27/02/2020',\t'12/03/2020',\t'19/03/2020']\n",
        "media_dia_natal  = [151,\t48,\t330,\t283,\t1378,\t1614,\t214,\t4578,\t225]\n",
        "\n",
        "# Atribuindo um título ao Gráfico\n",
        "plt.title('Média do dia da coleta para natal')\n",
        "plt.xlabel('Dia da Coleta')\n",
        "plt.ylabel('Valor de coliformes fecais')\n",
        "\n",
        "plt.bar(dias,media_dia_natal)\n",
        "# Exibindo o gráfico\n",
        "plt.show()"
      ],
      "execution_count": null,
      "outputs": [
        {
          "output_type": "display_data",
          "data": {
            "image/png": "[encoded data removed]",
            "text/plain": [
              "<Figure size 1440x576 with 1 Axes>"
            ]
          },
          "metadata": {
            "tags": [],
            "needs_background": "light"
          }
        }
      ]
    },
    {
      "cell_type": "code",
      "metadata": {
        "id": "oQZqH44d0qJc",
        "outputId": "a5dd5fb9-2602-4598-fc82-4e1186f6a2f6",
        "colab": {
          "base_uri": "https://localhost:8080/",
          "height": 513
        }
      },
      "source": [
        "#Definindo o tamanho do gráfico\n",
        "plt.figure(figsize=(20, 8))\n",
        "\n",
        "dias = ['26/12/2019', '23/01/2020', '30/01/2020', '06/02/2020', '13/02/2020', '20/02/2020',\t'27/02/2020',\t'12/03/2020',\t'19/03/2020']\n",
        "media_dia_extremoz  = [14,\t41,\t13,\t29,\t95,\t81,\t25,\t623,\t218]\n",
        "\n",
        "# Atribuindo um título ao Gráfico\n",
        "plt.title('Média do dia da coleta para extremoz')\n",
        "plt.xlabel('Dia da Coleta')\n",
        "plt.ylabel('Valor de coliformes fecais')\n",
        "\n",
        "plt.bar(dias,media_dia_extremoz)\n",
        "# Exibindo o gráfico\n",
        "plt.show()"
      ],
      "execution_count": null,
      "outputs": [
        {
          "output_type": "display_data",
          "data": {
            "image/png": "[encoded data removed]",
            "text/plain": [
              "<Figure size 1440x576 with 1 Axes>"
            ]
          },
          "metadata": {
            "tags": [],
            "needs_background": "light"
          }
        }
      ]
    },
    {
      "cell_type": "code",
      "metadata": {
        "id": "8DKIgyNF2P3Y",
        "outputId": "cd91fcdc-2138-4e1d-d55a-99444994cdc8",
        "colab": {
          "base_uri": "https://localhost:8080/",
          "height": 513
        }
      },
      "source": [
        "#Definindo o tamanho do gráfico\n",
        "plt.figure(figsize=(20, 8))\n",
        "\n",
        "dias = ['26/12/2019', '23/01/2020', '30/01/2020', '06/02/2020', '13/02/2020', '20/02/2020',\t'27/02/2020',\t'12/03/2020',\t'19/03/2020']\n",
        "media_dia_estado  = [200,\t167,\t299,\t577,\t485,\t805,\t473,\t1563,\t302]\n",
        "\n",
        "# Atribuindo um título ao Gráfico\n",
        "plt.title('Média do dia da coleta para o Estado')\n",
        "plt.xlabel('Dia da Coleta')\n",
        "plt.ylabel('Valor de coliformes fecais')\n",
        "\n",
        "plt.bar(dias,media_dia_estado)\n",
        "# Exibindo o gráfico\n",
        "plt.show()"
      ],
      "execution_count": null,
      "outputs": [
        {
          "output_type": "display_data",
          "data": {
            "image/png": "[encoded data removed]",
            "text/plain": [
              "<Figure size 1440x576 with 1 Axes>"
            ]
          },
          "metadata": {
            "tags": [],
            "needs_background": "light"
          }
        }
      ]
    }
  ]
}